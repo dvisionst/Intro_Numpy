{
  "nbformat": 4,
  "nbformat_minor": 0,
  "metadata": {
    "colab": {
      "name": "INtro_Numpy.ipynb",
      "provenance": [],
      "collapsed_sections": []
    },
    "kernelspec": {
      "name": "python3",
      "display_name": "Python 3"
    },
    "language_info": {
      "name": "python"
    }
  },
  "cells": [
    {
      "cell_type": "code",
      "execution_count": 20,
      "metadata": {
        "colab": {
          "base_uri": "https://localhost:8080/"
        },
        "id": "ZvXOw1q3s8Wo",
        "outputId": "9571f0f1-cb94-4d9f-f8f6-49a7ed48db32"
      },
      "outputs": [
        {
          "output_type": "stream",
          "name": "stdout",
          "text": [
            "[1.75 0.5  5.  ]\n",
            "[False False  True]\n",
            "[ 2  1 10  7]\n",
            "[ 2.   1.  10.   7.   4.5  3.   4.   9. ]\n",
            "[ 2.   1.  10.   7.   4.5  3.   4. ]\n",
            "[ 2.   1.  12.   7.   4.5  3.   4. ]\n",
            "[17 39  1  2  3 16  5]\n",
            "[34.  39.  12.  14.  13.5 48.  20. ]\n",
            "180.5\n",
            "[0 0 2 1 6 0 2]\n",
            "[ 0.   0.  12.   3.5 13.5  0.   4. ]\n",
            "33.0\n",
            "213.5\n"
          ]
        }
      ],
      "source": [
        "import numpy as np \n",
        "\n",
        "price = [2, 1, 10]\n",
        "quantity_sold = [17, 40, 1]\n",
        "\n",
        "price_array = np.array(price)\n",
        "quantity_sold_array = np.array(quantity_sold)\n",
        "total_collected_array = price_array * quantity_sold_array\n",
        "cost_array = np.array([0.25, 0.50, 5.00])\n",
        "profit_array = price_array - cost_array\n",
        "print(profit_array)\n",
        "print(profit_array > 2.00)\n",
        "price_array = np.append(price_array, 7)\n",
        "print(price_array)\n",
        "price_array = np.append(price_array, [4.50, 3, 4, 9])\n",
        "print(price_array)\n",
        "\n",
        "price_array = np.delete(price_array, -1)\n",
        "print(price_array)\n",
        "\n",
        "price_array[2] = 12\n",
        "print(price_array)\n",
        "baked_goods = [\"brownie\", \"cookie\", \"cake\", \"pies\", \"fudge\", \n",
        "               \"cupcake\", \"banana bread\"]\n",
        "# Bakery Exercise (Core)\n",
        "# baked_goods = [\"brownie\", \"cookie\" 39, \"cake\", \"pies\" 2, \"fudge\" 3, \n",
        "#               \"cupcake\" 16, \"banana bread\" 5]\n",
        "\n",
        "# 2) Update the  quantity_sold_array to include the sale of \n",
        "#2 pies,  3 trays of fudge, 16 cupcakes, and 5 loaves of banana bread.  \n",
        "# You also realize that one of the cookies you thought was sold had actually\n",
        "# fallen on the ground, so edit the quantity_sold_array from 40 to 39. \n",
        "quantity_sold_array = np.append(quantity_sold_array, [2, 3, 16, 5])\n",
        "quantity_sold_array[1] = 39\n",
        "print(quantity_sold_array)\n",
        "\n",
        "# 3) Determine the amount of money collected from the sale \n",
        "# of each item at the bake sale. \n",
        "\n",
        "total_collected_array = price_array * quantity_sold_array\n",
        "print(total_collected_array)\n",
        "full_price_total = 0\n",
        "for money in total_collected_array:\n",
        "  full_price_total += money\n",
        "print(full_price_total)\n",
        "\n",
        "# 4) Create a NumPy array \"quantity_leftover\" that includes the quantity of \n",
        "# each item remaining at the end of the sale: \n",
        "# 2 cakes, 1 pie, 6 trays of fudge, 2 loaves of banana bread.  \n",
        "#Hint: Make sure to include \"0\" for any item that was sold out. \n",
        "# Why is this important when creating the array?\n",
        "\n",
        "quantity_leftover = np.array([0, 0, 2, 1, 6, 0, 2])\n",
        "print(quantity_leftover)\n",
        "\n",
        "# 5) The club decides to sell the leftover items at half price and everything \n",
        "# quickly sells out!  \n",
        "# Determine how much money was collected from the clearance sale.\n",
        "\n",
        "clearence_price = price_array * 0.5\n",
        "total_collected_array = clearence_price * quantity_leftover\n",
        "print(total_collected_array)\n",
        "clearance_total = 0\n",
        "for money in total_collected_array:\n",
        "  clearance_total += money\n",
        "print(clearance_total)\n",
        "\n",
        "# 6) How much total money was collected from the bake sale \n",
        "# (including the sale of full price and clearance items)?\n",
        "bake_sale_total = clearance_total + full_price_total\n",
        "print(bake_sale_total)"
      ]
    }
  ]
}