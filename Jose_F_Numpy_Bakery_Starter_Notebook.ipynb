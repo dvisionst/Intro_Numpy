{
  "nbformat": 4,
  "nbformat_minor": 0,
  "metadata": {
    "colab": {
      "name": "Jose_F_Numpy Bakery Starter Notebook.ipynb",
      "provenance": [],
      "collapsed_sections": [],
      "include_colab_link": true
    },
    "kernelspec": {
      "name": "python3",
      "display_name": "Python 3"
    },
    "language_info": {
      "name": "python"
    }
  },
  "cells": [
    {
      "cell_type": "markdown",
      "metadata": {
        "id": "view-in-github",
        "colab_type": "text"
      },
      "source": [
        "<a href=\"https://colab.research.google.com/github/dvisionst/Intro_Numpy/blob/main/Jose_F_Numpy_Bakery_Starter_Notebook.ipynb\" target=\"_parent\"><img src=\"https://colab.research.google.com/assets/colab-badge.svg\" alt=\"Open In Colab\"/></a>"
      ]
    },
    {
      "cell_type": "markdown",
      "source": [
        "# Bakery Numpy Exercise (Core) \n",
        "\n",
        "Note: One challenge of this exercise is staying organized, so we recommend you keep track of what is going on with paper and pencil as you work through the exercise."
      ],
      "metadata": {
        "id": "c-7UVcOE2FTD"
      }
    },
    {
      "cell_type": "code",
      "metadata": {
        "colab": {
          "base_uri": "https://localhost:8080/"
        },
        "id": "ev4sAErNUgAi",
        "outputId": "1525c11e-37d8-4e7c-83a4-8cb644adf8ca"
      },
      "source": [
        "price = [2, 1, 10]\n",
        "type(price)"
      ],
      "execution_count": 4,
      "outputs": [
        {
          "output_type": "execute_result",
          "data": {
            "text/plain": [
              "list"
            ]
          },
          "metadata": {},
          "execution_count": 4
        }
      ]
    },
    {
      "cell_type": "code",
      "metadata": {
        "colab": {
          "base_uri": "https://localhost:8080/"
        },
        "id": "TkA8x3t5UzQX",
        "outputId": "3da00a6d-8e5d-4157-906a-84c0f6482479"
      },
      "source": [
        "quantity = [17, 40, 1]\n",
        "type(quantity)"
      ],
      "execution_count": 5,
      "outputs": [
        {
          "output_type": "execute_result",
          "data": {
            "text/plain": [
              "list"
            ]
          },
          "metadata": {},
          "execution_count": 5
        }
      ]
    },
    {
      "cell_type": "code",
      "metadata": {
        "id": "tGWEfasRU4J4"
      },
      "source": [
        "# price * quantity"
      ],
      "execution_count": 6,
      "outputs": []
    },
    {
      "cell_type": "code",
      "metadata": {
        "id": "7Pdo44osU7Qr"
      },
      "source": [
        "import numpy as np"
      ],
      "execution_count": 1,
      "outputs": []
    },
    {
      "cell_type": "code",
      "metadata": {
        "colab": {
          "base_uri": "https://localhost:8080/"
        },
        "id": "Y_FoXPDuU9X7",
        "outputId": "d367f4bb-31df-42de-c469-6b8626daa852"
      },
      "source": [
        "price_array = np.array(price)\n",
        "quantity_array = np.array(quantity)\n",
        "type(price_array)"
      ],
      "execution_count": 7,
      "outputs": [
        {
          "output_type": "execute_result",
          "data": {
            "text/plain": [
              "numpy.ndarray"
            ]
          },
          "metadata": {},
          "execution_count": 7
        }
      ]
    },
    {
      "cell_type": "code",
      "metadata": {
        "colab": {
          "base_uri": "https://localhost:8080/"
        },
        "id": "RHeZ10KPVElu",
        "outputId": "ae3c2d10-72f2-4a0b-9b7b-e666ccff49f8"
      },
      "source": [
        "price_array * quantity_array"
      ],
      "execution_count": 8,
      "outputs": [
        {
          "output_type": "execute_result",
          "data": {
            "text/plain": [
              "array([34, 40, 10])"
            ]
          },
          "metadata": {},
          "execution_count": 8
        }
      ]
    },
    {
      "cell_type": "code",
      "metadata": {
        "id": "2VCgaG5kVIsi"
      },
      "source": [
        "cost_array = np.array([0.25, 0.50, 5.00])"
      ],
      "execution_count": 9,
      "outputs": []
    },
    {
      "cell_type": "code",
      "metadata": {
        "colab": {
          "base_uri": "https://localhost:8080/"
        },
        "id": "Kqz1QjPmVNjc",
        "outputId": "85d2eddb-f8fb-47a4-c0a0-89470a441a62"
      },
      "source": [
        "profit_array = price_array - cost_array\n",
        "print(profit_array)\n"
      ],
      "execution_count": 10,
      "outputs": [
        {
          "output_type": "stream",
          "name": "stdout",
          "text": [
            "[1.75 0.5  5.  ]\n"
          ]
        }
      ]
    },
    {
      "cell_type": "code",
      "metadata": {
        "colab": {
          "base_uri": "https://localhost:8080/"
        },
        "id": "ypULDNmRVRAY",
        "outputId": "6cfe8405-cf1f-4aff-96ad-543330d57202"
      },
      "source": [
        "profit_array > 2.00\n"
      ],
      "execution_count": 11,
      "outputs": [
        {
          "output_type": "execute_result",
          "data": {
            "text/plain": [
              "array([False, False,  True])"
            ]
          },
          "metadata": {},
          "execution_count": 11
        }
      ]
    },
    {
      "cell_type": "code",
      "metadata": {
        "colab": {
          "base_uri": "https://localhost:8080/"
        },
        "id": "_vm50VzDVTed",
        "outputId": "235805d5-bf98-462f-ed76-2717b6a62e9e"
      },
      "source": [
        "price_array = price_array + [7]\n",
        "print(price_array)\n"
      ],
      "execution_count": 12,
      "outputs": [
        {
          "output_type": "stream",
          "name": "stdout",
          "text": [
            "[ 9  8 17]\n"
          ]
        }
      ]
    },
    {
      "cell_type": "code",
      "metadata": {
        "colab": {
          "base_uri": "https://localhost:8080/"
        },
        "id": "q-YAOQgWVXGw",
        "outputId": "90b4ff8a-de8c-4f16-e9bd-ab94d0ebcf4d"
      },
      "source": [
        "# Just fixing the mistake\n",
        "price_array = price_array - [7]\n",
        "# The proper way to append an element to an array\n",
        "price_array = np.append(price_array, 7)\n",
        "print(price_array)\n"
      ],
      "execution_count": 13,
      "outputs": [
        {
          "output_type": "stream",
          "name": "stdout",
          "text": [
            "[ 2  1 10  7]\n"
          ]
        }
      ]
    },
    {
      "cell_type": "code",
      "metadata": {
        "colab": {
          "base_uri": "https://localhost:8080/"
        },
        "id": "SO786-UWVZMi",
        "outputId": "d33ef603-0ac4-443c-f3ea-520a6224f3d1"
      },
      "source": [
        "price_array = np.append(price_array, [4.50, 3, 4, 9])\n",
        "print(price_array)\n",
        "\n"
      ],
      "execution_count": 14,
      "outputs": [
        {
          "output_type": "stream",
          "name": "stdout",
          "text": [
            "[ 2.   1.  10.   7.   4.5  3.   4.   9. ]\n"
          ]
        }
      ]
    },
    {
      "cell_type": "code",
      "metadata": {
        "colab": {
          "base_uri": "https://localhost:8080/"
        },
        "id": "-4vXAPEcVdcU",
        "outputId": "2d69da10-3e8f-41cf-ba5f-0deb6a5a16a6"
      },
      "source": [
        "print(price_array.dtype)\n"
      ],
      "execution_count": 15,
      "outputs": [
        {
          "output_type": "stream",
          "name": "stdout",
          "text": [
            "float64\n"
          ]
        }
      ]
    },
    {
      "cell_type": "code",
      "metadata": {
        "colab": {
          "base_uri": "https://localhost:8080/"
        },
        "id": "y8-tYZcHVgon",
        "outputId": "c7a5d363-7270-4756-a1e1-f8f1e8c7ba46"
      },
      "source": [
        "price_array = np.delete(price_array, -1)\n",
        "print(price_array)\n"
      ],
      "execution_count": 16,
      "outputs": [
        {
          "output_type": "stream",
          "name": "stdout",
          "text": [
            "[ 2.   1.  10.   7.   4.5  3.   4. ]\n"
          ]
        }
      ]
    },
    {
      "cell_type": "code",
      "metadata": {
        "colab": {
          "base_uri": "https://localhost:8080/"
        },
        "id": "LR2xG2_FVjLr",
        "outputId": "fdc6fd74-df73-49e9-a9cd-9c660454d7bf"
      },
      "source": [
        "price_array[2] = 12\n",
        "print(price_array)\n"
      ],
      "execution_count": 17,
      "outputs": [
        {
          "output_type": "stream",
          "name": "stdout",
          "text": [
            "[ 2.   1.  12.   7.   4.5  3.   4. ]\n"
          ]
        }
      ]
    },
    {
      "cell_type": "markdown",
      "source": [
        "1) OPEN THE NOTEBOOK YOU CREATED DURING THE PREVIOUS LESSON: INTRO TO NUMPY ARRAYS!\n",
        "\n",
        "If you did not start this notebook, please go back to the INTRO TO NUMPY ARRAYS lesson and follow along with the code before starting this task!\n",
        "\n",
        "You will start this task where the demonstration code left off.  "
      ],
      "metadata": {
        "id": "l8IAB9J92gND"
      }
    },
    {
      "cell_type": "markdown",
      "source": [
        "# The Assignment Starts Here"
      ],
      "metadata": {
        "id": "uIUAfF9c2jJ1"
      }
    },
    {
      "cell_type": "markdown",
      "metadata": {
        "id": "1xunhHPaWCi-"
      },
      "source": [
        "2) Update the  quantity_sold_array to include the sale of 2 pies,  3 trays of fudge, 16 cupcakes, and 5 loaves of banana bread.  You also realize that one of the cookies you thought was sold had actually fallen on the ground, so edit the quantity_sold_array from 40 to 39."
      ]
    },
    {
      "cell_type": "code",
      "metadata": {
        "id": "k8a4SXVKVpDa"
      },
      "source": [
        "quantity_sold_array = np.append(quantity_array, [2, 3, 16, 5])"
      ],
      "execution_count": 18,
      "outputs": []
    },
    {
      "cell_type": "code",
      "metadata": {
        "id": "O_enU-46V0YT",
        "colab": {
          "base_uri": "https://localhost:8080/"
        },
        "outputId": "5b0e3d71-3042-461b-bbfd-cff2f56b1a77"
      },
      "source": [
        "quantity_sold_array[1] = 39\n",
        "quantity_sold_array"
      ],
      "execution_count": 19,
      "outputs": [
        {
          "output_type": "execute_result",
          "data": {
            "text/plain": [
              "array([17, 39,  1,  2,  3, 16,  5])"
            ]
          },
          "metadata": {},
          "execution_count": 19
        }
      ]
    },
    {
      "cell_type": "markdown",
      "metadata": {
        "id": "vfIgDaikWFdw"
      },
      "source": [
        "3) Determine the amount of money collected from the sale of each item at the bake sale.  "
      ]
    },
    {
      "cell_type": "code",
      "metadata": {
        "id": "ikN8urc4WH86",
        "colab": {
          "base_uri": "https://localhost:8080/"
        },
        "outputId": "81791fb2-6dad-459d-a4f2-6abf0e26dc85"
      },
      "source": [
        "total_collected_array = price_array * quantity_sold_array\n",
        "total_collected_array\n"
      ],
      "execution_count": 27,
      "outputs": [
        {
          "output_type": "execute_result",
          "data": {
            "text/plain": [
              "array([34. , 39. , 12. , 14. , 13.5, 48. , 20. ])"
            ]
          },
          "metadata": {},
          "execution_count": 27
        }
      ]
    },
    {
      "cell_type": "markdown",
      "metadata": {
        "id": "v8xG8a77WyTV"
      },
      "source": [
        "4) Create a NumPy array \"quantity_leftover\" that includes the quantity of each item remaining at the end of the sale: 2 cakes, 1 pie, 6 trays of fudge, 2 loaves of banana bread.  Hint: Make sure to include \"0\" for any item that was sold out. Why is this important when creating the array?"
      ]
    },
    {
      "cell_type": "code",
      "metadata": {
        "id": "_OSmjj-mWNE2",
        "colab": {
          "base_uri": "https://localhost:8080/"
        },
        "outputId": "9f039aa4-9ac1-4167-e089-43e7e7b5e54b"
      },
      "source": [
        "# It's important to to add in the zeros so that the calculations needed later \n",
        "# on will work otherwise an error will populate because the arrays will be \n",
        "# of a different length\n",
        "\n",
        "quantity_leftover = np.array([0, 0, 2, 1, 6, 0, 2])\n",
        "quantity_leftover"
      ],
      "execution_count": 24,
      "outputs": [
        {
          "output_type": "execute_result",
          "data": {
            "text/plain": [
              "array([0, 0, 2, 1, 6, 0, 2])"
            ]
          },
          "metadata": {},
          "execution_count": 24
        }
      ]
    },
    {
      "cell_type": "markdown",
      "metadata": {
        "id": "Pny1zRYZW1AF"
      },
      "source": [
        "5) The club decides to sell the leftover items at half price and everything quickly sells out!  Determine how much money was collected from the clearance sale. "
      ]
    },
    {
      "cell_type": "code",
      "metadata": {
        "id": "VPymUS0wW39q",
        "colab": {
          "base_uri": "https://localhost:8080/"
        },
        "outputId": "3b58a0fe-9304-4d93-c641-f0722358c720"
      },
      "source": [
        "clearence_price = price_array * 0.5\n",
        "clearence_collected_array = clearence_price * quantity_leftover\n",
        "sum(clearence_collected_array)\n"
      ],
      "execution_count": 29,
      "outputs": [
        {
          "output_type": "execute_result",
          "data": {
            "text/plain": [
              "33.0"
            ]
          },
          "metadata": {},
          "execution_count": 29
        }
      ]
    },
    {
      "cell_type": "markdown",
      "metadata": {
        "id": "dDqAKj9jXLz4"
      },
      "source": [
        "6) How much total money was collected from the bake sale (including the sale of full price and clearance items)?\n",
        "\n",
        "Hint: Your final answer should be $213.50, but you must make sure you get this answer with your NumPy coding skills!!"
      ]
    },
    {
      "cell_type": "code",
      "metadata": {
        "id": "CmqGXhMHXOFD",
        "colab": {
          "base_uri": "https://localhost:8080/"
        },
        "outputId": "8df03703-0c1f-408d-8427-3e91d3ecd6a4"
      },
      "source": [
        "bake_sale_total = sum(clearence_collected_array + total_collected_array)\n",
        "bake_sale_total"
      ],
      "execution_count": 33,
      "outputs": [
        {
          "output_type": "execute_result",
          "data": {
            "text/plain": [
              "213.5"
            ]
          },
          "metadata": {},
          "execution_count": 33
        }
      ]
    },
    {
      "cell_type": "code",
      "source": [
        ""
      ],
      "metadata": {
        "id": "HbrzTpbxLFTw"
      },
      "execution_count": null,
      "outputs": []
    }
  ]
}